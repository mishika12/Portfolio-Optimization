{
 "cells": [
  {
   "cell_type": "markdown",
   "metadata": {},
   "source": [
    " ## Portfolio Optimization\n",
    "\n"
   ]
  },
  {
   "cell_type": "markdown",
   "metadata": {
    "tags": []
   },
   "source": [
    "## Pre-processing step: Estimate expected returns and covariance"
   ]
  },
  {
   "cell_type": "code",
   "execution_count": 1,
   "metadata": {
    "tags": []
   },
   "outputs": [],
   "source": [
    "# Import gurobi and numpy\n",
    "from gurobipy import *\n",
    "import numpy as np\n",
    "from numpy import genfromtxt\n",
    "import csv\n",
    "\n",
    "## Get index of 4 tickers\n",
    "tick4 = [\"MSFT\",\"GS\",\"PG\",\"SCHP\"];\n",
    "\n",
    "# Get variable names\n",
    "with open('Prices.csv') as csvFile:\n",
    "    reader = csv.reader(csvFile)\n",
    "    tickers = next(reader) ## stores the tickers of all 390 stocks\n",
    "\n",
    "tickind =[];\n",
    "for t in tick4:\n",
    "    tickind.append(tickers.index(t)) ## retrieve index that corresponds to each ticker\n",
    "\n",
    "prices = genfromtxt('Prices.csv', delimiter=',',skip_header = 1)\n",
    "\n",
    "\n",
    "d = prices.shape[0] # number of months\n",
    "n = prices.shape[1] # number of stocks\n",
    "\n",
    "# monthly returns of each stock\n",
    "returns = np.zeros((d-1,n))\n",
    "for stock in range(n):\n",
    "    for month in range(d-1):\n",
    "        returns[month,stock] = prices[month+1,stock]/prices[month,stock]-1\n",
    "        \n",
    "# average return (parameter r_i in portfolio optimization model)       \n",
    "avg_return = np.zeros(n)\n",
    "avg_return = np.mean(returns,axis=0)\n",
    "\n",
    "# covariance matrix (parameter C_ij in portfolio optimization model)\n",
    "C = np.zeros((n,n))\n",
    "C = np.cov(np.transpose(returns))\n"
   ]
  },
  {
   "cell_type": "markdown",
   "metadata": {},
   "source": [
    "## Model 1\n",
    "Four-asset portfolio: We can only invest in Microsoft (MSFT), Goldman Sachs (GS), Proctor & Gamble (PG), and U.S. Treasury Bonds (SCHP). Need to construct a minimum-variance portfolio with an expected monthly return of at least 0.5%."
   ]
  },
  {
   "cell_type": "markdown",
   "metadata": {},
   "source": [
    "\\begin{align}\n",
    "\\text{Decision Variable}: w_{i}= \\text{weight of stock i in the portfolio, i=1,2,3,4}\n",
    "\\end{align}\n",
    "\n",
    "\\begin{align}\n",
    "\\underset{{\\bf w}}{\\text{min}} \\;\\; &\\sum_{i=1}^4\\sum_{j=1}^4w_{i}w_{j}C_{ij}\\\\\n",
    "&\\text{s.t.}\\\\\n",
    "&\\sum_{i=1}^4{w_{i}r_{i}} \\geq 0.5\\\\\\\n",
    "&\\sum_{i=1}^4{w_{i}} = 1\\\\\n",
    "&w_{i} \\geq 0, \\text{for  $i=1,2,3,4$}\n",
    "\\end{align}"
   ]
  },
  {
   "cell_type": "code",
   "execution_count": 2,
   "metadata": {
    "tags": []
   },
   "outputs": [
    {
     "name": "stdout",
     "output_type": "stream",
     "text": [
      "Set parameter Username\n",
      "Academic license - for non-commercial use only - expires 2025-01-11\n"
     ]
    }
   ],
   "source": [
    "#Intializing model 1\n",
    "mod_1 = Model()\n",
    "\n",
    "# decision variable\n",
    "w = mod_1.addVars(390)\n",
    "\n",
    "# defining the constraints \n",
    "cons_1 = mod_1.addConstr(sum(w[i] * avg_return[i] for i in tickind) >= 0.005)\n",
    "cons_2 = mod_1.addConstr(sum(w[i] for i in tickind)== 1)\n",
    "\n",
    "for i in tickind:\n",
    "    mod_1.addConstr(w[i]>= 0.0)\n",
    "\n",
    "# objective function \n",
    "mod_1.setObjective(sum(w[i]*w[j]*C[i,j] for i in tickind for j in tickind), GRB.MINIMIZE)"
   ]
  },
  {
   "cell_type": "code",
   "execution_count": 3,
   "metadata": {
    "tags": []
   },
   "outputs": [
    {
     "name": "stdout",
     "output_type": "stream",
     "text": [
      "Gurobi Optimizer version 11.0.0 build v11.0.0rc2 (mac64[arm] - Darwin 23.1.0 23B81)\n",
      "\n",
      "CPU model: Apple M2\n",
      "Thread count: 8 physical cores, 8 logical processors, using up to 8 threads\n",
      "\n",
      "Optimize a model with 6 rows, 390 columns and 12 nonzeros\n",
      "Model fingerprint: 0x24944e33\n",
      "Model has 10 quadratic objective terms\n",
      "Coefficient statistics:\n",
      "  Matrix range     [2e-04, 1e+00]\n",
      "  Objective range  [0e+00, 0e+00]\n",
      "  QObjective range [5e-05, 7e-03]\n",
      "  Bounds range     [0e+00, 0e+00]\n",
      "  RHS range        [5e-03, 1e+00]\n",
      "Presolve removed 4 rows and 386 columns\n",
      "Presolve time: 0.01s\n",
      "Presolved: 2 rows, 4 columns, 8 nonzeros\n",
      "Presolved model has 10 quadratic objective terms\n",
      "Ordering time: 0.00s\n",
      "\n",
      "Barrier statistics:\n",
      " Free vars  : 3\n",
      " AA' NZ     : 1.000e+01\n",
      " Factor NZ  : 1.500e+01\n",
      " Factor Ops : 5.500e+01 (less than 1 second per iteration)\n",
      " Threads    : 1\n",
      "\n",
      "                  Objective                Residual\n",
      "Iter       Primal          Dual         Primal    Dual     Compl     Time\n",
      "   0   7.75648617e+03 -7.75648617e+03  3.50e+03 1.57e-06  1.00e+06     0s\n",
      "   1   2.51636603e+02 -2.59893243e+02  2.31e+02 1.04e-07  6.92e+04     0s\n",
      "   2   2.61043362e-03 -1.01272125e+01  6.64e-01 2.99e-10  3.29e+02     0s\n",
      "   3   1.01144644e-03 -3.53587425e+00  6.64e-07 2.96e-16  4.53e+01     0s\n",
      "   4   1.00956586e-03 -4.19494040e-03  3.14e-10 1.13e-17  6.66e-02     0s\n",
      "   5   4.34187327e-04 -3.61737038e-05  6.69e-12 2.78e-18  6.02e-03     0s\n",
      "   6   2.14699172e-04  1.27154313e-04  3.33e-16 3.48e-17  1.12e-03     0s\n",
      "   7   1.80089010e-04  1.72718190e-04  6.94e-17 8.52e-18  9.43e-05     0s\n",
      "   8   1.77537641e-04  1.76950183e-04  1.55e-15 3.33e-18  7.52e-06     0s\n",
      "   9   1.77493374e-04  1.77486115e-04  2.44e-15 1.52e-17  9.29e-08     0s\n",
      "  10   1.77493264e-04  1.77493257e-04  6.94e-15 1.39e-17  9.32e-11     0s\n",
      "\n",
      "Barrier solved model in 10 iterations and 0.02 seconds (0.00 work units)\n",
      "Optimal objective 1.77493264e-04\n",
      "\n"
     ]
    }
   ],
   "source": [
    "mod_1.update()\n",
    "mod_1.optimize()"
   ]
  },
  {
   "cell_type": "code",
   "execution_count": 4,
   "metadata": {
    "tags": []
   },
   "outputs": [
    {
     "name": "stdout",
     "output_type": "stream",
     "text": [
      "0.00017749326422824248\n"
     ]
    }
   ],
   "source": [
    "opt_risk = mod_1.objval\n",
    "print(opt_risk)"
   ]
  },
  {
   "cell_type": "code",
   "execution_count": 5,
   "metadata": {
    "tags": []
   },
   "outputs": [
    {
     "name": "stdout",
     "output_type": "stream",
     "text": [
      "[0.23711755540145213, 0.025859609077561872, 1.6430790119996093e-10, 0.737022835356677]\n"
     ]
    }
   ],
   "source": [
    "opt_w = [w[i].x for i in tickind]\n",
    "print(opt_w)"
   ]
  },
  {
   "cell_type": "code",
   "execution_count": 6,
   "metadata": {
    "tags": []
   },
   "outputs": [],
   "source": [
    "import pandas as pd\n",
    "opt_result=pd.DataFrame({'ticker':tick4, 'weight':opt_w})\n",
    "opt_result_string = opt_result.to_string(index=False)\n"
   ]
  },
  {
   "cell_type": "markdown",
   "metadata": {},
   "source": [
    "\n",
    "Model 1 Insights: \n",
    "- the optimal risk (i.e. the optimal objective function value): 1.77493264e-04\n",
    "- solver time: 0.02 seconds\n",
    "- the weight on each of the four stocks is as below"
   ]
  },
  {
   "cell_type": "code",
   "execution_count": 7,
   "metadata": {},
   "outputs": [
    {
     "name": "stdout",
     "output_type": "stream",
     "text": [
      "ticker       weight\n",
      "  MSFT 2.371176e-01\n",
      "    GS 2.585961e-02\n",
      "    PG 1.643079e-10\n",
      "  SCHP 7.370228e-01\n"
     ]
    }
   ],
   "source": [
    "print(opt_result_string)"
   ]
  },
  {
   "cell_type": "markdown",
   "metadata": {
    "tags": []
   },
   "source": [
    "### Model 2\n",
    "Now we can invest in all 390 stocks. Construct a minimum-variance portfolio with an expected monthly return of at least 0.5%."
   ]
  },
  {
   "cell_type": "markdown",
   "metadata": {},
   "source": [
    "\\begin{align}\n",
    "\\text{Decision Variable}: w_{i}= \\text{weight of stock i in the portfolio, i=1,2,...,390}\n",
    "\\end{align}\n",
    "\n",
    "\\begin{align}\n",
    "\\underset{{\\bf w}}{\\text{min}} \\;\\; &\\sum_{i=1}^{390}\\sum_{j=1}^{390}w_{i}w_{j}C_{ij}\\\\\n",
    "&\\text{s.t.}\\\\\n",
    "&\\sum_{i=1}^{390}{w_{i}r_{i}} \\geq 0.5\\\\\\\n",
    "&\\sum_{i=1}^{390}{w_{i}} = 1\\\\\n",
    "&w_{i} \\geq 0, \\text{for  $i=1,2,...,390$}\n",
    "\\end{align}"
   ]
  },
  {
   "cell_type": "code",
   "execution_count": 8,
   "metadata": {
    "tags": []
   },
   "outputs": [],
   "source": [
    "mod_2 = Model()\n",
    "\n",
    "# defining the decision variable\n",
    "w = mod_2.addVars(390)\n",
    "\n",
    "# defining the constraints \n",
    "cons_1 = mod_2.addConstr(sum(w[i]*avg_return[i] for i in range(390)) >= 0.005)\n",
    "cons_2 = mod_2.addConstr(sum(w[i] for i in range(390))== 1)\n",
    "\n",
    "for i in range(390):\n",
    "    mod_2.addConstr(w[i]>= 0.0)\n",
    "\n",
    "# objective function \n",
    "mod_2.setObjective(sum(w[i]*w[j]*C[i,j] for i in range(390) for j in range(390)), GRB.MINIMIZE)"
   ]
  },
  {
   "cell_type": "code",
   "execution_count": 9,
   "metadata": {
    "tags": []
   },
   "outputs": [
    {
     "name": "stdout",
     "output_type": "stream",
     "text": [
      "Gurobi Optimizer version 11.0.0 build v11.0.0rc2 (mac64[arm] - Darwin 23.1.0 23B81)\n",
      "\n",
      "CPU model: Apple M2\n",
      "Thread count: 8 physical cores, 8 logical processors, using up to 8 threads\n",
      "\n",
      "Optimize a model with 392 rows, 390 columns and 1170 nonzeros\n",
      "Model fingerprint: 0xd3a53ccf\n",
      "Model has 76245 quadratic objective terms\n",
      "Coefficient statistics:\n",
      "  Matrix range     [1e-06, 1e+00]\n",
      "  Objective range  [0e+00, 0e+00]\n",
      "  QObjective range [2e-07, 8e-02]\n",
      "  Bounds range     [0e+00, 0e+00]\n",
      "  RHS range        [5e-03, 1e+00]\n",
      "Presolve removed 390 rows and 0 columns\n",
      "Presolve time: 0.01s\n",
      "Presolved: 2 rows, 390 columns, 780 nonzeros\n",
      "Presolved model has 76245 quadratic objective terms\n",
      "Ordering time: 0.00s\n",
      "\n",
      "Barrier statistics:\n",
      " Free vars  : 59\n",
      " AA' NZ     : 1.830e+03\n",
      " Factor NZ  : 1.891e+03\n",
      " Factor Ops : 7.753e+04 (less than 1 second per iteration)\n",
      " Threads    : 8\n",
      "\n",
      "                  Objective                Residual\n",
      "Iter       Primal          Dual         Primal    Dual     Compl     Time\n",
      "   0   1.10520633e-17 -1.10520633e-17  3.90e+05 1.86e-08  1.00e+06     0s\n",
      "   1   1.32403095e+02 -1.40151246e+02  1.14e+04 5.42e-10  2.92e+04     0s\n",
      "   2   1.53493902e+00 -9.57482645e+00  1.02e+02 4.86e-12  2.67e+02     0s\n",
      "   3   1.17587702e-03 -7.92081818e+00  1.02e-04 9.12e-16  2.59e+00     0s\n",
      "   4   1.17509605e-03 -1.01300882e-02  4.36e-08 1.20e-17  3.70e-03     0s\n",
      "   5   8.22186010e-04 -1.13464664e-03  4.77e-09 1.18e-17  6.41e-04     0s\n",
      "   6   3.78013352e-04 -5.97431608e-04  5.77e-15 2.22e-16  3.19e-04     0s\n",
      "   7   2.05319383e-04 -1.66218904e-04  1.33e-15 8.33e-17  1.22e-04     0s\n",
      "   8   9.53707757e-05 -4.26667932e-05  3.55e-15 8.33e-17  4.52e-05     0s\n",
      "   9   6.93295928e-05  3.06840100e-06  1.33e-15 4.16e-17  2.17e-05     0s\n",
      "  10   4.16952119e-05  2.32922123e-05  2.00e-15 2.08e-17  6.02e-06     0s\n",
      "  11   3.39225828e-05  2.74051911e-05  8.88e-16 2.08e-17  2.13e-06     0s\n",
      "  12   3.04655599e-05  2.85032903e-05  3.44e-15 2.78e-17  6.42e-07     0s\n",
      "  13   2.89580888e-05  2.87642150e-05  1.24e-14 2.08e-17  6.35e-08     0s\n",
      "  14   2.87917525e-05  2.87842956e-05  2.15e-14 3.82e-17  2.44e-09     0s\n",
      "\n",
      "Barrier solved model in 14 iterations and 0.03 seconds (0.01 work units)\n",
      "Optimal objective 2.87917525e-05\n",
      "\n"
     ]
    }
   ],
   "source": [
    "mod_2.update()\n",
    "mod_2.optimize()"
   ]
  },
  {
   "cell_type": "code",
   "execution_count": 10,
   "metadata": {
    "tags": []
   },
   "outputs": [
    {
     "name": "stdout",
     "output_type": "stream",
     "text": [
      "2.879175251400085e-05\n"
     ]
    }
   ],
   "source": [
    "opt_risk = mod_2.objval\n",
    "print(opt_risk)"
   ]
  },
  {
   "cell_type": "markdown",
   "metadata": {},
   "source": [
    "Model 2 Insights:  \n",
    "- the optimal risk: 2.87917525e-05\n",
    "- solver time: 0.04 seconds"
   ]
  },
  {
   "cell_type": "markdown",
   "metadata": {
    "tags": []
   },
   "source": [
    "## Model 3\n",
    "In practice, there are transaction fees associated with buying stocks. One way of keeping transaction fees low while still attaining desirable performance is to limit the total number of stocks that are purchased (i.e. limit the number of stocks that have a strictly positive weight). Construct a minimum-variance portfolio that selects at most 4 of the 390 stocks, and has an expected monthly return of at least 0.5%."
   ]
  },
  {
   "cell_type": "markdown",
   "metadata": {},
   "source": [
    "\\begin{align}\n",
    "\\text{Decision Variable}: w_{i}= \\text{weight of stock i in the portfolio, i=1,2,...,390}\\\\\n",
    "\\ x_{i}= \\text{1 if selecte stock i, 0 if not (binary), i=1,2,...,390}\n",
    "\\end{align}\n",
    "\n",
    "\\begin{align}\n",
    "\\underset{{\\bf w, x}}{\\text{min}} \\;\\; &\\sum_{i=1}^{390}\\sum_{j=1}^{390}w_{i}w_{j}C_{ij}\\\\\n",
    "&\\text{s.t.}\\\\\n",
    "&\\sum_{i=1}^{390}{w_{i}r_{i}} \\geq 0.5\\\\\n",
    "&\\sum_{i=1}^{390}{w_{i}} = 1\\\\\n",
    "&\\sum_{i=1}^{390}{x_{i}} \\leq 4\\\\\n",
    "&w_{i} \\leq x_{i}, \\text{for $i=1,2,...,390$}\\\\\n",
    "&w_{i} \\geq 0, \\text{for $i=1,2,...,390$}\n",
    "\\end{align}"
   ]
  },
  {
   "cell_type": "code",
   "execution_count": 11,
   "metadata": {
    "tags": []
   },
   "outputs": [],
   "source": [
    "mod_3 = Model()\n",
    "\n",
    "# defining the decision variable\n",
    "w = mod_3.addVars(390)\n",
    "x = mod_3.addVars(390, vtype = GRB.BINARY)\n",
    "\n",
    "#defining the constraints \n",
    "cons_1 = mod_3.addConstr(sum(w[i]*avg_return[i] for i in range(390)) >= 0.005)\n",
    "cons_2 = mod_3.addConstr(sum(w[i] for i in range(390)) == 1)\n",
    "cons_3 = mod_3.addConstr(sum(x[i] for i in range(390)) <= 4)\n",
    "cons_4 = mod_3.addConstrs(w[i]<= x[i] for i in range(390)) \n",
    "for i in range(390):\n",
    "    mod_3.addConstr(w[i]>= 0.0)\n",
    "\n",
    "# objective function \n",
    "mod_3.setObjective(sum(w[i]*w[j]*C[i,j] for i in range(390) for j in range(390)), GRB.MINIMIZE)"
   ]
  },
  {
   "cell_type": "code",
   "execution_count": 12,
   "metadata": {
    "tags": []
   },
   "outputs": [
    {
     "name": "stdout",
     "output_type": "stream",
     "text": [
      "Gurobi Optimizer version 11.0.0 build v11.0.0rc2 (mac64[arm] - Darwin 23.1.0 23B81)\n",
      "\n",
      "CPU model: Apple M2\n",
      "Thread count: 8 physical cores, 8 logical processors, using up to 8 threads\n",
      "\n",
      "Optimize a model with 783 rows, 780 columns and 2340 nonzeros\n",
      "Model fingerprint: 0x7dfc432c\n",
      "Model has 76245 quadratic objective terms\n",
      "Variable types: 390 continuous, 390 integer (390 binary)\n",
      "Coefficient statistics:\n",
      "  Matrix range     [1e-06, 1e+00]\n",
      "  Objective range  [0e+00, 0e+00]\n",
      "  QObjective range [2e-07, 8e-02]\n",
      "  Bounds range     [1e+00, 1e+00]\n",
      "  RHS range        [5e-03, 4e+00]\n",
      "Found heuristic solution: objective 0.0136011\n",
      "Presolve removed 390 rows and 0 columns\n",
      "Presolve time: 0.01s\n",
      "Presolved: 393 rows, 780 columns, 1950 nonzeros\n",
      "Presolved model has 76245 quadratic objective terms\n",
      "Variable types: 390 continuous, 390 integer (390 binary)\n",
      "\n",
      "Root relaxation: objective 2.878501e-05, 129 iterations, 0.00 seconds (0.01 work units)\n",
      "\n",
      "    Nodes    |    Current Node    |     Objective Bounds      |     Work\n",
      " Expl Unexpl |  Obj  Depth IntInf | Incumbent    BestBd   Gap | It/Node Time\n",
      "\n",
      "     0     0    0.00003    0   21    0.01360    0.00003   100%     -    0s\n",
      "H    0     0                       0.0001377    0.00003  79.1%     -    0s\n",
      "H    0     0                       0.0001357    0.00003  78.8%     -    0s\n",
      "     0     0    0.00003    0   21    0.00014    0.00003  78.8%     -    0s\n",
      "H    0     0                       0.0000744    0.00003  61.3%     -    0s\n",
      "H    0     0                       0.0000723    0.00003  58.1%     -    0s\n",
      "     0     0    0.00003    0   21    0.00007    0.00003  58.1%     -    0s\n",
      "     0     0    0.00003    0   21    0.00007    0.00003  57.7%     -    0s\n",
      "     0     0    0.00003    0   21    0.00007    0.00003  57.5%     -    0s\n",
      "     0     2    0.00003    0   21    0.00007    0.00003  57.5%     -    0s\n",
      "H  249   171                       0.0000676    0.00003  54.6%  49.4    0s\n",
      "H  252   171                       0.0000675    0.00003  54.5%  48.9    0s\n",
      " 11066  2784     cutoff   30         0.00007    0.00005  25.0%  57.9    5s\n",
      " 21853  1675    0.00006   44   20    0.00007    0.00006  7.72%  73.7   10s\n",
      "\n",
      "Explored 26833 nodes (2384781 simplex iterations) in 13.14 seconds (36.14 work units)\n",
      "Thread count was 8 (of 8 available processors)\n",
      "\n",
      "Solution count 7: 6.75347e-05 6.75857e-05 7.23026e-05 ... 0.0136011\n",
      "\n",
      "Optimal solution found (tolerance 1.00e-04)\n",
      "Best objective 6.753470760728e-05, best bound 6.753470760728e-05, gap 0.0000%\n"
     ]
    }
   ],
   "source": [
    "mod_3.update()\n",
    "mod_3.optimize()"
   ]
  },
  {
   "cell_type": "code",
   "execution_count": 13,
   "metadata": {
    "tags": []
   },
   "outputs": [
    {
     "name": "stdout",
     "output_type": "stream",
     "text": [
      "6.753470760728129e-05\n"
     ]
    }
   ],
   "source": [
    "opt_risk = mod_3.objval\n",
    "print(opt_risk)"
   ]
  },
  {
   "cell_type": "code",
   "execution_count": 14,
   "metadata": {
    "tags": []
   },
   "outputs": [
    {
     "name": "stdout",
     "output_type": "stream",
     "text": [
      "[118, 285, 348, 389]\n",
      "['CME', 'LLY', 'NVDA', 'BND']\n",
      "[0.12641141929490635, 0.0754761903543743, 0.04375370672843142, 0.7543586836222896]\n"
     ]
    }
   ],
   "source": [
    "opt_w = [w[i].x for i in range(390) if w[i].x>0]\n",
    "opt_i = [i for i in range(390) if w[i].x>0]\n",
    "\n",
    "# retrieve index that corresponds to each ticker\n",
    "opt_tickers = [tickers[i] for i in opt_i] \n",
    "\n",
    "print(opt_i)\n",
    "print(opt_tickers)\n",
    "print(opt_w)"
   ]
  },
  {
   "cell_type": "code",
   "execution_count": 15,
   "metadata": {
    "tags": []
   },
   "outputs": [
    {
     "name": "stdout",
     "output_type": "stream",
     "text": [
      " index ticker   weight\n",
      "   118    CME 0.126411\n",
      "   285    LLY 0.075476\n",
      "   348   NVDA 0.043754\n",
      "   389    BND 0.754359\n"
     ]
    }
   ],
   "source": [
    "opt_result3=pd.DataFrame({'index':opt_i, 'ticker':opt_tickers, 'weight':opt_w})\n",
    "opt_result3_string = opt_result3.to_string(index=False)\n",
    "print(opt_result3_string)"
   ]
  },
  {
   "cell_type": "markdown",
   "metadata": {},
   "source": [
    "Model 3 Insights:\n",
    "- the optimal risk: 6.753470760728e-05\n",
    "- solver time: 15.23 seconds\n",
    "- tikers & weights selected by the model are as below:"
   ]
  },
  {
   "cell_type": "code",
   "execution_count": 16,
   "metadata": {
    "tags": []
   },
   "outputs": [
    {
     "name": "stdout",
     "output_type": "stream",
     "text": [
      " index ticker   weight\n",
      "   118    CME 0.126411\n",
      "   285    LLY 0.075476\n",
      "   348   NVDA 0.043754\n",
      "   389    BND 0.754359\n"
     ]
    }
   ],
   "source": [
    "print(opt_result3_string)"
   ]
  },
  {
   "cell_type": "markdown",
   "metadata": {},
   "source": [
    "#### Overall Insights \n",
    "\n",
    "> The optimal risk in Model 1 is higher than Model 2. This is primarily because we make the assumptions that all assets are risky assets, thus when we add more assets to our portfolio (as in model 2), the overall investment opportunity set becomes bigger (unless the new asset is redundant) and the efficient frontier shifts to the left. As a result, we are able to achieve the same expected return in model 2 but with a lower risk. So diversification helps us to mitigate the risks involved in model 2 as opposed to model 1 that has less number of risky assets."
   ]
  },
  {
   "cell_type": "markdown",
   "metadata": {},
   "source": [
    "\n",
    "> The optimal risk in Model 2 is lower than Model 3. This is using the same rationale as in part a). In this case, we are limiting our number of risky assets to a total of 4 and we are only considering those assets that have a strictly postitive weight. As a result, the efficient frontier for model 2 is to the left of the efficient frontier of model 3, which implies that we can achieve the same expected return from both the models, but with a lower risk in case of model 2 as opposed to less assets in model 3 where the risk will be higher."
   ]
  }
 ],
 "metadata": {
  "kernelspec": {
   "display_name": "Python 3 (ipykernel)",
   "language": "python",
   "name": "python3"
  },
  "language_info": {
   "codemirror_mode": {
    "name": "ipython",
    "version": 3
   },
   "file_extension": ".py",
   "mimetype": "text/x-python",
   "name": "python",
   "nbconvert_exporter": "python",
   "pygments_lexer": "ipython3",
   "version": "3.11.4"
  }
 },
 "nbformat": 4,
 "nbformat_minor": 4
}
